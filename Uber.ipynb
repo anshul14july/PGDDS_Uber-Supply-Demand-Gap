{
 "cells": [
  {
   "cell_type": "code",
   "execution_count": 1,
   "metadata": {},
   "outputs": [],
   "source": [
    "# Supress Warnings\n",
    "import warnings\n",
    "warnings.filterwarnings('ignore')"
   ]
  },
  {
   "cell_type": "code",
   "execution_count": 2,
   "metadata": {},
   "outputs": [],
   "source": [
    "#Import Numpy and Pandas\n",
    "import numpy as np\n",
    "import pandas as pd\n",
    "import matplotlib.pyplot as plt\n",
    "\n",
    "# the commonly used alias for seaborn is sns\n",
    "import seaborn as sns\n",
    "\n",
    "# set a seaborn style of your taste\n",
    "sns.set_style(\"whitegrid\")\n"
   ]
  },
  {
   "cell_type": "code",
   "execution_count": 3,
   "metadata": {},
   "outputs": [],
   "source": [
    "#Reading data from 'uber request data.csv' into 'uber' dataframe with 'latin-1' encoding\n",
    "uber = pd.read_csv('Uber Request Data.csv',encoding = 'latin-1')"
   ]
  },
  {
   "cell_type": "code",
   "execution_count": 4,
   "metadata": {},
   "outputs": [
    {
     "data": {
      "text/html": [
       "<div>\n",
       "<style scoped>\n",
       "    .dataframe tbody tr th:only-of-type {\n",
       "        vertical-align: middle;\n",
       "    }\n",
       "\n",
       "    .dataframe tbody tr th {\n",
       "        vertical-align: top;\n",
       "    }\n",
       "\n",
       "    .dataframe thead th {\n",
       "        text-align: right;\n",
       "    }\n",
       "</style>\n",
       "<table border=\"1\" class=\"dataframe\">\n",
       "  <thead>\n",
       "    <tr style=\"text-align: right;\">\n",
       "      <th></th>\n",
       "      <th>Request id</th>\n",
       "      <th>Pickup point</th>\n",
       "      <th>Driver id</th>\n",
       "      <th>Status</th>\n",
       "      <th>Request timestamp</th>\n",
       "      <th>Drop timestamp</th>\n",
       "    </tr>\n",
       "  </thead>\n",
       "  <tbody>\n",
       "    <tr>\n",
       "      <th>0</th>\n",
       "      <td>619</td>\n",
       "      <td>Airport</td>\n",
       "      <td>1.0</td>\n",
       "      <td>Trip Completed</td>\n",
       "      <td>11/7/2016 11:51</td>\n",
       "      <td>11/7/2016 13:00</td>\n",
       "    </tr>\n",
       "    <tr>\n",
       "      <th>1</th>\n",
       "      <td>867</td>\n",
       "      <td>Airport</td>\n",
       "      <td>1.0</td>\n",
       "      <td>Trip Completed</td>\n",
       "      <td>11/7/2016 17:57</td>\n",
       "      <td>11/7/2016 18:47</td>\n",
       "    </tr>\n",
       "    <tr>\n",
       "      <th>2</th>\n",
       "      <td>1807</td>\n",
       "      <td>City</td>\n",
       "      <td>1.0</td>\n",
       "      <td>Trip Completed</td>\n",
       "      <td>12/7/2016 9:17</td>\n",
       "      <td>12/7/2016 9:58</td>\n",
       "    </tr>\n",
       "    <tr>\n",
       "      <th>3</th>\n",
       "      <td>2532</td>\n",
       "      <td>Airport</td>\n",
       "      <td>1.0</td>\n",
       "      <td>Trip Completed</td>\n",
       "      <td>12/7/2016 21:08</td>\n",
       "      <td>12/7/2016 22:03</td>\n",
       "    </tr>\n",
       "    <tr>\n",
       "      <th>4</th>\n",
       "      <td>3112</td>\n",
       "      <td>City</td>\n",
       "      <td>1.0</td>\n",
       "      <td>Trip Completed</td>\n",
       "      <td>13-07-2016 08:33:16</td>\n",
       "      <td>13-07-2016 09:25:47</td>\n",
       "    </tr>\n",
       "  </tbody>\n",
       "</table>\n",
       "</div>"
      ],
      "text/plain": [
       "   Request id Pickup point  Driver id          Status    Request timestamp  \\\n",
       "0         619      Airport        1.0  Trip Completed      11/7/2016 11:51   \n",
       "1         867      Airport        1.0  Trip Completed      11/7/2016 17:57   \n",
       "2        1807         City        1.0  Trip Completed       12/7/2016 9:17   \n",
       "3        2532      Airport        1.0  Trip Completed      12/7/2016 21:08   \n",
       "4        3112         City        1.0  Trip Completed  13-07-2016 08:33:16   \n",
       "\n",
       "        Drop timestamp  \n",
       "0      11/7/2016 13:00  \n",
       "1      11/7/2016 18:47  \n",
       "2       12/7/2016 9:58  \n",
       "3      12/7/2016 22:03  \n",
       "4  13-07-2016 09:25:47  "
      ]
     },
     "execution_count": 4,
     "metadata": {},
     "output_type": "execute_result"
    }
   ],
   "source": [
    "#Top Few rows of dataset\n",
    "uber.head()"
   ]
  },
  {
   "cell_type": "code",
   "execution_count": 5,
   "metadata": {},
   "outputs": [
    {
     "name": "stdout",
     "output_type": "stream",
     "text": [
      "(6745, 6)\n",
      "<class 'pandas.core.frame.DataFrame'>\n",
      "RangeIndex: 6745 entries, 0 to 6744\n",
      "Data columns (total 6 columns):\n",
      "Request id           6745 non-null int64\n",
      "Pickup point         6745 non-null object\n",
      "Driver id            4095 non-null float64\n",
      "Status               6745 non-null object\n",
      "Request timestamp    6745 non-null object\n",
      "Drop timestamp       2831 non-null object\n",
      "dtypes: float64(1), int64(1), object(4)\n",
      "memory usage: 316.2+ KB\n",
      "None\n"
     ]
    }
   ],
   "source": [
    "#Dimensions and summary of columns used in Dataset\n",
    "print(uber.shape)\n",
    "print(uber.info())"
   ]
  },
  {
   "cell_type": "code",
   "execution_count": 6,
   "metadata": {},
   "outputs": [
    {
     "data": {
      "text/html": [
       "<div>\n",
       "<style scoped>\n",
       "    .dataframe tbody tr th:only-of-type {\n",
       "        vertical-align: middle;\n",
       "    }\n",
       "\n",
       "    .dataframe tbody tr th {\n",
       "        vertical-align: top;\n",
       "    }\n",
       "\n",
       "    .dataframe thead th {\n",
       "        text-align: right;\n",
       "    }\n",
       "</style>\n",
       "<table border=\"1\" class=\"dataframe\">\n",
       "  <thead>\n",
       "    <tr style=\"text-align: right;\">\n",
       "      <th></th>\n",
       "      <th>Request id</th>\n",
       "      <th>Pickup point</th>\n",
       "      <th>Driver id</th>\n",
       "      <th>Status</th>\n",
       "      <th>Request timestamp</th>\n",
       "      <th>Drop timestamp</th>\n",
       "    </tr>\n",
       "  </thead>\n",
       "  <tbody>\n",
       "    <tr>\n",
       "      <th>6740</th>\n",
       "      <td>6745</td>\n",
       "      <td>City</td>\n",
       "      <td>NaN</td>\n",
       "      <td>No Cars Available</td>\n",
       "      <td>15-07-2016 23:49:03</td>\n",
       "      <td>NaN</td>\n",
       "    </tr>\n",
       "    <tr>\n",
       "      <th>6741</th>\n",
       "      <td>6752</td>\n",
       "      <td>Airport</td>\n",
       "      <td>NaN</td>\n",
       "      <td>No Cars Available</td>\n",
       "      <td>15-07-2016 23:50:05</td>\n",
       "      <td>NaN</td>\n",
       "    </tr>\n",
       "    <tr>\n",
       "      <th>6742</th>\n",
       "      <td>6751</td>\n",
       "      <td>City</td>\n",
       "      <td>NaN</td>\n",
       "      <td>No Cars Available</td>\n",
       "      <td>15-07-2016 23:52:06</td>\n",
       "      <td>NaN</td>\n",
       "    </tr>\n",
       "    <tr>\n",
       "      <th>6743</th>\n",
       "      <td>6754</td>\n",
       "      <td>City</td>\n",
       "      <td>NaN</td>\n",
       "      <td>No Cars Available</td>\n",
       "      <td>15-07-2016 23:54:39</td>\n",
       "      <td>NaN</td>\n",
       "    </tr>\n",
       "    <tr>\n",
       "      <th>6744</th>\n",
       "      <td>6753</td>\n",
       "      <td>Airport</td>\n",
       "      <td>NaN</td>\n",
       "      <td>No Cars Available</td>\n",
       "      <td>15-07-2016 23:55:03</td>\n",
       "      <td>NaN</td>\n",
       "    </tr>\n",
       "  </tbody>\n",
       "</table>\n",
       "</div>"
      ],
      "text/plain": [
       "      Request id Pickup point  Driver id             Status  \\\n",
       "6740        6745         City        NaN  No Cars Available   \n",
       "6741        6752      Airport        NaN  No Cars Available   \n",
       "6742        6751         City        NaN  No Cars Available   \n",
       "6743        6754         City        NaN  No Cars Available   \n",
       "6744        6753      Airport        NaN  No Cars Available   \n",
       "\n",
       "        Request timestamp Drop timestamp  \n",
       "6740  15-07-2016 23:49:03            NaN  \n",
       "6741  15-07-2016 23:50:05            NaN  \n",
       "6742  15-07-2016 23:52:06            NaN  \n",
       "6743  15-07-2016 23:54:39            NaN  \n",
       "6744  15-07-2016 23:55:03            NaN  "
      ]
     },
     "execution_count": 6,
     "metadata": {},
     "output_type": "execute_result"
    }
   ],
   "source": [
    "#Bottom Few rows of dataset\n",
    "uber.tail()"
   ]
  },
  {
   "cell_type": "code",
   "execution_count": 7,
   "metadata": {},
   "outputs": [],
   "source": [
    "#Converting Date Column \"Request timestamp\" into Datetime format from object type\n",
    "uber['Request timestamp'] = pd.to_datetime(uber['Request timestamp'],dayfirst = True)"
   ]
  },
  {
   "cell_type": "code",
   "execution_count": 8,
   "metadata": {},
   "outputs": [
    {
     "name": "stdout",
     "output_type": "stream",
     "text": [
      "<class 'pandas.core.frame.DataFrame'>\n",
      "RangeIndex: 6745 entries, 0 to 6744\n",
      "Data columns (total 6 columns):\n",
      "Request id           6745 non-null int64\n",
      "Pickup point         6745 non-null object\n",
      "Driver id            4095 non-null float64\n",
      "Status               6745 non-null object\n",
      "Request timestamp    6745 non-null datetime64[ns]\n",
      "Drop timestamp       2831 non-null object\n",
      "dtypes: datetime64[ns](1), float64(1), int64(1), object(3)\n",
      "memory usage: 316.2+ KB\n"
     ]
    }
   ],
   "source": [
    "#Checking the datatype of all columns again\n",
    "uber.info()"
   ]
  },
  {
   "cell_type": "code",
   "execution_count": 9,
   "metadata": {},
   "outputs": [],
   "source": [
    "#Converting Date Column \"Drop timestamp\" into Datetime format from object type\n",
    "uber['Drop timestamp'] = pd.to_datetime(uber['Drop timestamp'],dayfirst = True,errors = 'ignore')"
   ]
  },
  {
   "cell_type": "markdown",
   "metadata": {},
   "source": [
    "uber['Drop timestamp'] = uber['Drop timestamp'].str.replace(\"/\",\"-\")\n",
    "uber['Drop timestamp'] = uber['Drop timestamp'].str.split(\":\").str[:2]\n",
    "uber['Drop timestamp'] = uber['Drop timestamp'].str.join(\":\")"
   ]
  },
  {
   "cell_type": "code",
   "execution_count": 10,
   "metadata": {},
   "outputs": [
    {
     "name": "stdout",
     "output_type": "stream",
     "text": [
      "<class 'pandas.core.frame.DataFrame'>\n",
      "RangeIndex: 6745 entries, 0 to 6744\n",
      "Data columns (total 6 columns):\n",
      "Request id           6745 non-null int64\n",
      "Pickup point         6745 non-null object\n",
      "Driver id            4095 non-null float64\n",
      "Status               6745 non-null object\n",
      "Request timestamp    6745 non-null datetime64[ns]\n",
      "Drop timestamp       2831 non-null datetime64[ns]\n",
      "dtypes: datetime64[ns](2), float64(1), int64(1), object(2)\n",
      "memory usage: 316.2+ KB\n"
     ]
    }
   ],
   "source": [
    "#Checking the datatype of all columns again\n",
    "uber.info()"
   ]
  },
  {
   "cell_type": "code",
   "execution_count": 11,
   "metadata": {},
   "outputs": [
    {
     "data": {
      "text/plain": [
       "Request id              0\n",
       "Pickup point            0\n",
       "Driver id            2650\n",
       "Status                  0\n",
       "Request timestamp       0\n",
       "Drop timestamp       3914\n",
       "dtype: int64"
      ]
     },
     "execution_count": 11,
     "metadata": {},
     "output_type": "execute_result"
    }
   ],
   "source": [
    "#Checking for null values in each columns\n",
    "uber.isnull().sum()"
   ]
  },
  {
   "cell_type": "code",
   "execution_count": 12,
   "metadata": {},
   "outputs": [
    {
     "data": {
      "text/plain": [
       "3914"
      ]
     },
     "execution_count": 12,
     "metadata": {},
     "output_type": "execute_result"
    }
   ],
   "source": [
    "#Calculating rows with any null values\n",
    "uber.isnull().any(axis =1).sum()"
   ]
  },
  {
   "cell_type": "code",
   "execution_count": 13,
   "metadata": {},
   "outputs": [
    {
     "data": {
      "text/plain": [
       "0"
      ]
     },
     "execution_count": 13,
     "metadata": {},
     "output_type": "execute_result"
    }
   ],
   "source": [
    "#Chcking for rows with all null values\n",
    "uber.isnull().all().sum()"
   ]
  },
  {
   "cell_type": "code",
   "execution_count": 14,
   "metadata": {},
   "outputs": [
    {
     "data": {
      "text/html": [
       "<div>\n",
       "<style scoped>\n",
       "    .dataframe tbody tr th:only-of-type {\n",
       "        vertical-align: middle;\n",
       "    }\n",
       "\n",
       "    .dataframe tbody tr th {\n",
       "        vertical-align: top;\n",
       "    }\n",
       "\n",
       "    .dataframe thead th {\n",
       "        text-align: right;\n",
       "    }\n",
       "</style>\n",
       "<table border=\"1\" class=\"dataframe\">\n",
       "  <thead>\n",
       "    <tr style=\"text-align: right;\">\n",
       "      <th></th>\n",
       "      <th>Request id</th>\n",
       "      <th>Pickup point</th>\n",
       "      <th>Driver id</th>\n",
       "      <th>Status</th>\n",
       "      <th>Request timestamp</th>\n",
       "      <th>Drop timestamp</th>\n",
       "    </tr>\n",
       "  </thead>\n",
       "  <tbody>\n",
       "    <tr>\n",
       "      <th>2831</th>\n",
       "      <td>2905</td>\n",
       "      <td>City</td>\n",
       "      <td>1.0</td>\n",
       "      <td>Cancelled</td>\n",
       "      <td>2016-07-13 06:08:41</td>\n",
       "      <td>NaT</td>\n",
       "    </tr>\n",
       "    <tr>\n",
       "      <th>2832</th>\n",
       "      <td>4805</td>\n",
       "      <td>City</td>\n",
       "      <td>1.0</td>\n",
       "      <td>Cancelled</td>\n",
       "      <td>2016-07-14 17:07:58</td>\n",
       "      <td>NaT</td>\n",
       "    </tr>\n",
       "    <tr>\n",
       "      <th>2833</th>\n",
       "      <td>5202</td>\n",
       "      <td>Airport</td>\n",
       "      <td>1.0</td>\n",
       "      <td>Cancelled</td>\n",
       "      <td>2016-07-14 20:51:37</td>\n",
       "      <td>NaT</td>\n",
       "    </tr>\n",
       "    <tr>\n",
       "      <th>2834</th>\n",
       "      <td>5927</td>\n",
       "      <td>City</td>\n",
       "      <td>1.0</td>\n",
       "      <td>Cancelled</td>\n",
       "      <td>2016-07-15 10:12:40</td>\n",
       "      <td>NaT</td>\n",
       "    </tr>\n",
       "    <tr>\n",
       "      <th>2835</th>\n",
       "      <td>2347</td>\n",
       "      <td>Airport</td>\n",
       "      <td>2.0</td>\n",
       "      <td>Cancelled</td>\n",
       "      <td>2016-07-12 19:14:00</td>\n",
       "      <td>NaT</td>\n",
       "    </tr>\n",
       "    <tr>\n",
       "      <th>2836</th>\n",
       "      <td>3806</td>\n",
       "      <td>Airport</td>\n",
       "      <td>2.0</td>\n",
       "      <td>Cancelled</td>\n",
       "      <td>2016-07-13 20:57:49</td>\n",
       "      <td>NaT</td>\n",
       "    </tr>\n",
       "    <tr>\n",
       "      <th>2837</th>\n",
       "      <td>4451</td>\n",
       "      <td>City</td>\n",
       "      <td>2.0</td>\n",
       "      <td>Cancelled</td>\n",
       "      <td>2016-07-14 08:38:38</td>\n",
       "      <td>NaT</td>\n",
       "    </tr>\n",
       "    <tr>\n",
       "      <th>2838</th>\n",
       "      <td>5023</td>\n",
       "      <td>Airport</td>\n",
       "      <td>2.0</td>\n",
       "      <td>Cancelled</td>\n",
       "      <td>2016-07-14 19:04:08</td>\n",
       "      <td>NaT</td>\n",
       "    </tr>\n",
       "    <tr>\n",
       "      <th>2839</th>\n",
       "      <td>80</td>\n",
       "      <td>City</td>\n",
       "      <td>3.0</td>\n",
       "      <td>Cancelled</td>\n",
       "      <td>2016-07-11 04:47:00</td>\n",
       "      <td>NaT</td>\n",
       "    </tr>\n",
       "    <tr>\n",
       "      <th>2840</th>\n",
       "      <td>534</td>\n",
       "      <td>City</td>\n",
       "      <td>3.0</td>\n",
       "      <td>Cancelled</td>\n",
       "      <td>2016-07-11 10:01:00</td>\n",
       "      <td>NaT</td>\n",
       "    </tr>\n",
       "    <tr>\n",
       "      <th>2841</th>\n",
       "      <td>1867</td>\n",
       "      <td>Airport</td>\n",
       "      <td>3.0</td>\n",
       "      <td>Cancelled</td>\n",
       "      <td>2016-07-12 09:59:00</td>\n",
       "      <td>NaT</td>\n",
       "    </tr>\n",
       "    <tr>\n",
       "      <th>2842</th>\n",
       "      <td>4383</td>\n",
       "      <td>City</td>\n",
       "      <td>3.0</td>\n",
       "      <td>Cancelled</td>\n",
       "      <td>2016-07-14 07:48:31</td>\n",
       "      <td>NaT</td>\n",
       "    </tr>\n",
       "    <tr>\n",
       "      <th>2843</th>\n",
       "      <td>748</td>\n",
       "      <td>City</td>\n",
       "      <td>4.0</td>\n",
       "      <td>Cancelled</td>\n",
       "      <td>2016-07-11 15:49:00</td>\n",
       "      <td>NaT</td>\n",
       "    </tr>\n",
       "    <tr>\n",
       "      <th>2844</th>\n",
       "      <td>1254</td>\n",
       "      <td>Airport</td>\n",
       "      <td>4.0</td>\n",
       "      <td>Cancelled</td>\n",
       "      <td>2016-07-11 21:53:00</td>\n",
       "      <td>NaT</td>\n",
       "    </tr>\n",
       "    <tr>\n",
       "      <th>2845</th>\n",
       "      <td>3807</td>\n",
       "      <td>Airport</td>\n",
       "      <td>4.0</td>\n",
       "      <td>Cancelled</td>\n",
       "      <td>2016-07-13 20:58:00</td>\n",
       "      <td>NaT</td>\n",
       "    </tr>\n",
       "    <tr>\n",
       "      <th>2846</th>\n",
       "      <td>4280</td>\n",
       "      <td>City</td>\n",
       "      <td>4.0</td>\n",
       "      <td>Cancelled</td>\n",
       "      <td>2016-07-14 06:33:09</td>\n",
       "      <td>NaT</td>\n",
       "    </tr>\n",
       "    <tr>\n",
       "      <th>2847</th>\n",
       "      <td>4533</td>\n",
       "      <td>City</td>\n",
       "      <td>4.0</td>\n",
       "      <td>Cancelled</td>\n",
       "      <td>2016-07-14 09:31:08</td>\n",
       "      <td>NaT</td>\n",
       "    </tr>\n",
       "    <tr>\n",
       "      <th>2848</th>\n",
       "      <td>3230</td>\n",
       "      <td>City</td>\n",
       "      <td>5.0</td>\n",
       "      <td>Cancelled</td>\n",
       "      <td>2016-07-13 10:01:57</td>\n",
       "      <td>NaT</td>\n",
       "    </tr>\n",
       "    <tr>\n",
       "      <th>2849</th>\n",
       "      <td>4296</td>\n",
       "      <td>City</td>\n",
       "      <td>5.0</td>\n",
       "      <td>Cancelled</td>\n",
       "      <td>2016-07-14 06:39:26</td>\n",
       "      <td>NaT</td>\n",
       "    </tr>\n",
       "    <tr>\n",
       "      <th>2850</th>\n",
       "      <td>3059</td>\n",
       "      <td>City</td>\n",
       "      <td>6.0</td>\n",
       "      <td>Cancelled</td>\n",
       "      <td>2016-07-13 07:56:25</td>\n",
       "      <td>NaT</td>\n",
       "    </tr>\n",
       "    <tr>\n",
       "      <th>2851</th>\n",
       "      <td>5547</td>\n",
       "      <td>City</td>\n",
       "      <td>6.0</td>\n",
       "      <td>Cancelled</td>\n",
       "      <td>2016-07-15 05:30:31</td>\n",
       "      <td>NaT</td>\n",
       "    </tr>\n",
       "    <tr>\n",
       "      <th>2852</th>\n",
       "      <td>5699</td>\n",
       "      <td>City</td>\n",
       "      <td>6.0</td>\n",
       "      <td>Cancelled</td>\n",
       "      <td>2016-07-15 07:25:53</td>\n",
       "      <td>NaT</td>\n",
       "    </tr>\n",
       "    <tr>\n",
       "      <th>2853</th>\n",
       "      <td>5701</td>\n",
       "      <td>City</td>\n",
       "      <td>6.0</td>\n",
       "      <td>Cancelled</td>\n",
       "      <td>2016-07-15 07:34:00</td>\n",
       "      <td>NaT</td>\n",
       "    </tr>\n",
       "    <tr>\n",
       "      <th>2854</th>\n",
       "      <td>247</td>\n",
       "      <td>City</td>\n",
       "      <td>7.0</td>\n",
       "      <td>Cancelled</td>\n",
       "      <td>2016-07-11 06:33:00</td>\n",
       "      <td>NaT</td>\n",
       "    </tr>\n",
       "    <tr>\n",
       "      <th>2855</th>\n",
       "      <td>2582</td>\n",
       "      <td>Airport</td>\n",
       "      <td>7.0</td>\n",
       "      <td>Cancelled</td>\n",
       "      <td>2016-07-12 21:42:00</td>\n",
       "      <td>NaT</td>\n",
       "    </tr>\n",
       "    <tr>\n",
       "      <th>2856</th>\n",
       "      <td>3184</td>\n",
       "      <td>City</td>\n",
       "      <td>7.0</td>\n",
       "      <td>Cancelled</td>\n",
       "      <td>2016-07-13 09:21:36</td>\n",
       "      <td>NaT</td>\n",
       "    </tr>\n",
       "    <tr>\n",
       "      <th>2857</th>\n",
       "      <td>1687</td>\n",
       "      <td>City</td>\n",
       "      <td>8.0</td>\n",
       "      <td>Cancelled</td>\n",
       "      <td>2016-07-12 07:51:00</td>\n",
       "      <td>NaT</td>\n",
       "    </tr>\n",
       "    <tr>\n",
       "      <th>2858</th>\n",
       "      <td>4174</td>\n",
       "      <td>City</td>\n",
       "      <td>8.0</td>\n",
       "      <td>Cancelled</td>\n",
       "      <td>2016-07-14 05:19:59</td>\n",
       "      <td>NaT</td>\n",
       "    </tr>\n",
       "    <tr>\n",
       "      <th>2859</th>\n",
       "      <td>4335</td>\n",
       "      <td>City</td>\n",
       "      <td>8.0</td>\n",
       "      <td>Cancelled</td>\n",
       "      <td>2016-07-14 07:13:52</td>\n",
       "      <td>NaT</td>\n",
       "    </tr>\n",
       "    <tr>\n",
       "      <th>2860</th>\n",
       "      <td>150</td>\n",
       "      <td>City</td>\n",
       "      <td>9.0</td>\n",
       "      <td>Cancelled</td>\n",
       "      <td>2016-07-11 05:24:00</td>\n",
       "      <td>NaT</td>\n",
       "    </tr>\n",
       "    <tr>\n",
       "      <th>...</th>\n",
       "      <td>...</td>\n",
       "      <td>...</td>\n",
       "      <td>...</td>\n",
       "      <td>...</td>\n",
       "      <td>...</td>\n",
       "      <td>...</td>\n",
       "    </tr>\n",
       "    <tr>\n",
       "      <th>6715</th>\n",
       "      <td>6683</td>\n",
       "      <td>City</td>\n",
       "      <td>NaN</td>\n",
       "      <td>No Cars Available</td>\n",
       "      <td>2016-07-15 22:34:01</td>\n",
       "      <td>NaT</td>\n",
       "    </tr>\n",
       "    <tr>\n",
       "      <th>6716</th>\n",
       "      <td>6686</td>\n",
       "      <td>Airport</td>\n",
       "      <td>NaN</td>\n",
       "      <td>No Cars Available</td>\n",
       "      <td>2016-07-15 22:36:13</td>\n",
       "      <td>NaT</td>\n",
       "    </tr>\n",
       "    <tr>\n",
       "      <th>6717</th>\n",
       "      <td>6688</td>\n",
       "      <td>Airport</td>\n",
       "      <td>NaN</td>\n",
       "      <td>No Cars Available</td>\n",
       "      <td>2016-07-15 22:37:37</td>\n",
       "      <td>NaT</td>\n",
       "    </tr>\n",
       "    <tr>\n",
       "      <th>6718</th>\n",
       "      <td>6689</td>\n",
       "      <td>Airport</td>\n",
       "      <td>NaN</td>\n",
       "      <td>No Cars Available</td>\n",
       "      <td>2016-07-15 22:43:46</td>\n",
       "      <td>NaT</td>\n",
       "    </tr>\n",
       "    <tr>\n",
       "      <th>6719</th>\n",
       "      <td>6693</td>\n",
       "      <td>City</td>\n",
       "      <td>NaN</td>\n",
       "      <td>No Cars Available</td>\n",
       "      <td>2016-07-15 22:49:33</td>\n",
       "      <td>NaT</td>\n",
       "    </tr>\n",
       "    <tr>\n",
       "      <th>6720</th>\n",
       "      <td>6696</td>\n",
       "      <td>City</td>\n",
       "      <td>NaN</td>\n",
       "      <td>No Cars Available</td>\n",
       "      <td>2016-07-15 22:49:45</td>\n",
       "      <td>NaT</td>\n",
       "    </tr>\n",
       "    <tr>\n",
       "      <th>6721</th>\n",
       "      <td>6697</td>\n",
       "      <td>Airport</td>\n",
       "      <td>NaN</td>\n",
       "      <td>No Cars Available</td>\n",
       "      <td>2016-07-15 22:51:18</td>\n",
       "      <td>NaT</td>\n",
       "    </tr>\n",
       "    <tr>\n",
       "      <th>6722</th>\n",
       "      <td>6709</td>\n",
       "      <td>Airport</td>\n",
       "      <td>NaN</td>\n",
       "      <td>No Cars Available</td>\n",
       "      <td>2016-07-15 22:56:00</td>\n",
       "      <td>NaT</td>\n",
       "    </tr>\n",
       "    <tr>\n",
       "      <th>6723</th>\n",
       "      <td>6706</td>\n",
       "      <td>Airport</td>\n",
       "      <td>NaN</td>\n",
       "      <td>No Cars Available</td>\n",
       "      <td>2016-07-15 22:58:15</td>\n",
       "      <td>NaT</td>\n",
       "    </tr>\n",
       "    <tr>\n",
       "      <th>6724</th>\n",
       "      <td>6708</td>\n",
       "      <td>City</td>\n",
       "      <td>NaN</td>\n",
       "      <td>No Cars Available</td>\n",
       "      <td>2016-07-15 23:03:23</td>\n",
       "      <td>NaT</td>\n",
       "    </tr>\n",
       "    <tr>\n",
       "      <th>6725</th>\n",
       "      <td>6713</td>\n",
       "      <td>City</td>\n",
       "      <td>NaN</td>\n",
       "      <td>No Cars Available</td>\n",
       "      <td>2016-07-15 23:08:14</td>\n",
       "      <td>NaT</td>\n",
       "    </tr>\n",
       "    <tr>\n",
       "      <th>6726</th>\n",
       "      <td>6715</td>\n",
       "      <td>City</td>\n",
       "      <td>NaN</td>\n",
       "      <td>No Cars Available</td>\n",
       "      <td>2016-07-15 23:11:41</td>\n",
       "      <td>NaT</td>\n",
       "    </tr>\n",
       "    <tr>\n",
       "      <th>6727</th>\n",
       "      <td>6716</td>\n",
       "      <td>City</td>\n",
       "      <td>NaN</td>\n",
       "      <td>No Cars Available</td>\n",
       "      <td>2016-07-15 23:14:36</td>\n",
       "      <td>NaT</td>\n",
       "    </tr>\n",
       "    <tr>\n",
       "      <th>6728</th>\n",
       "      <td>6718</td>\n",
       "      <td>Airport</td>\n",
       "      <td>NaN</td>\n",
       "      <td>No Cars Available</td>\n",
       "      <td>2016-07-15 23:14:39</td>\n",
       "      <td>NaT</td>\n",
       "    </tr>\n",
       "    <tr>\n",
       "      <th>6729</th>\n",
       "      <td>6720</td>\n",
       "      <td>City</td>\n",
       "      <td>NaN</td>\n",
       "      <td>No Cars Available</td>\n",
       "      <td>2016-07-15 23:16:48</td>\n",
       "      <td>NaT</td>\n",
       "    </tr>\n",
       "    <tr>\n",
       "      <th>6730</th>\n",
       "      <td>6722</td>\n",
       "      <td>Airport</td>\n",
       "      <td>NaN</td>\n",
       "      <td>No Cars Available</td>\n",
       "      <td>2016-07-15 23:18:21</td>\n",
       "      <td>NaT</td>\n",
       "    </tr>\n",
       "    <tr>\n",
       "      <th>6731</th>\n",
       "      <td>6725</td>\n",
       "      <td>Airport</td>\n",
       "      <td>NaN</td>\n",
       "      <td>No Cars Available</td>\n",
       "      <td>2016-07-15 23:21:53</td>\n",
       "      <td>NaT</td>\n",
       "    </tr>\n",
       "    <tr>\n",
       "      <th>6732</th>\n",
       "      <td>6728</td>\n",
       "      <td>City</td>\n",
       "      <td>NaN</td>\n",
       "      <td>No Cars Available</td>\n",
       "      <td>2016-07-15 23:26:50</td>\n",
       "      <td>NaT</td>\n",
       "    </tr>\n",
       "    <tr>\n",
       "      <th>6733</th>\n",
       "      <td>6730</td>\n",
       "      <td>Airport</td>\n",
       "      <td>NaN</td>\n",
       "      <td>No Cars Available</td>\n",
       "      <td>2016-07-15 23:27:55</td>\n",
       "      <td>NaT</td>\n",
       "    </tr>\n",
       "    <tr>\n",
       "      <th>6734</th>\n",
       "      <td>6732</td>\n",
       "      <td>Airport</td>\n",
       "      <td>NaN</td>\n",
       "      <td>No Cars Available</td>\n",
       "      <td>2016-07-15 23:35:50</td>\n",
       "      <td>NaT</td>\n",
       "    </tr>\n",
       "    <tr>\n",
       "      <th>6735</th>\n",
       "      <td>6737</td>\n",
       "      <td>Airport</td>\n",
       "      <td>NaN</td>\n",
       "      <td>No Cars Available</td>\n",
       "      <td>2016-07-15 23:39:15</td>\n",
       "      <td>NaT</td>\n",
       "    </tr>\n",
       "    <tr>\n",
       "      <th>6736</th>\n",
       "      <td>6744</td>\n",
       "      <td>Airport</td>\n",
       "      <td>NaN</td>\n",
       "      <td>No Cars Available</td>\n",
       "      <td>2016-07-15 23:42:51</td>\n",
       "      <td>NaT</td>\n",
       "    </tr>\n",
       "    <tr>\n",
       "      <th>6737</th>\n",
       "      <td>6740</td>\n",
       "      <td>City</td>\n",
       "      <td>NaN</td>\n",
       "      <td>No Cars Available</td>\n",
       "      <td>2016-07-15 23:43:54</td>\n",
       "      <td>NaT</td>\n",
       "    </tr>\n",
       "    <tr>\n",
       "      <th>6738</th>\n",
       "      <td>6746</td>\n",
       "      <td>City</td>\n",
       "      <td>NaN</td>\n",
       "      <td>No Cars Available</td>\n",
       "      <td>2016-07-15 23:46:03</td>\n",
       "      <td>NaT</td>\n",
       "    </tr>\n",
       "    <tr>\n",
       "      <th>6739</th>\n",
       "      <td>6739</td>\n",
       "      <td>City</td>\n",
       "      <td>NaN</td>\n",
       "      <td>No Cars Available</td>\n",
       "      <td>2016-07-15 23:46:20</td>\n",
       "      <td>NaT</td>\n",
       "    </tr>\n",
       "    <tr>\n",
       "      <th>6740</th>\n",
       "      <td>6745</td>\n",
       "      <td>City</td>\n",
       "      <td>NaN</td>\n",
       "      <td>No Cars Available</td>\n",
       "      <td>2016-07-15 23:49:03</td>\n",
       "      <td>NaT</td>\n",
       "    </tr>\n",
       "    <tr>\n",
       "      <th>6741</th>\n",
       "      <td>6752</td>\n",
       "      <td>Airport</td>\n",
       "      <td>NaN</td>\n",
       "      <td>No Cars Available</td>\n",
       "      <td>2016-07-15 23:50:05</td>\n",
       "      <td>NaT</td>\n",
       "    </tr>\n",
       "    <tr>\n",
       "      <th>6742</th>\n",
       "      <td>6751</td>\n",
       "      <td>City</td>\n",
       "      <td>NaN</td>\n",
       "      <td>No Cars Available</td>\n",
       "      <td>2016-07-15 23:52:06</td>\n",
       "      <td>NaT</td>\n",
       "    </tr>\n",
       "    <tr>\n",
       "      <th>6743</th>\n",
       "      <td>6754</td>\n",
       "      <td>City</td>\n",
       "      <td>NaN</td>\n",
       "      <td>No Cars Available</td>\n",
       "      <td>2016-07-15 23:54:39</td>\n",
       "      <td>NaT</td>\n",
       "    </tr>\n",
       "    <tr>\n",
       "      <th>6744</th>\n",
       "      <td>6753</td>\n",
       "      <td>Airport</td>\n",
       "      <td>NaN</td>\n",
       "      <td>No Cars Available</td>\n",
       "      <td>2016-07-15 23:55:03</td>\n",
       "      <td>NaT</td>\n",
       "    </tr>\n",
       "  </tbody>\n",
       "</table>\n",
       "<p>3914 rows × 6 columns</p>\n",
       "</div>"
      ],
      "text/plain": [
       "      Request id Pickup point  Driver id             Status  \\\n",
       "2831        2905         City        1.0          Cancelled   \n",
       "2832        4805         City        1.0          Cancelled   \n",
       "2833        5202      Airport        1.0          Cancelled   \n",
       "2834        5927         City        1.0          Cancelled   \n",
       "2835        2347      Airport        2.0          Cancelled   \n",
       "2836        3806      Airport        2.0          Cancelled   \n",
       "2837        4451         City        2.0          Cancelled   \n",
       "2838        5023      Airport        2.0          Cancelled   \n",
       "2839          80         City        3.0          Cancelled   \n",
       "2840         534         City        3.0          Cancelled   \n",
       "2841        1867      Airport        3.0          Cancelled   \n",
       "2842        4383         City        3.0          Cancelled   \n",
       "2843         748         City        4.0          Cancelled   \n",
       "2844        1254      Airport        4.0          Cancelled   \n",
       "2845        3807      Airport        4.0          Cancelled   \n",
       "2846        4280         City        4.0          Cancelled   \n",
       "2847        4533         City        4.0          Cancelled   \n",
       "2848        3230         City        5.0          Cancelled   \n",
       "2849        4296         City        5.0          Cancelled   \n",
       "2850        3059         City        6.0          Cancelled   \n",
       "2851        5547         City        6.0          Cancelled   \n",
       "2852        5699         City        6.0          Cancelled   \n",
       "2853        5701         City        6.0          Cancelled   \n",
       "2854         247         City        7.0          Cancelled   \n",
       "2855        2582      Airport        7.0          Cancelled   \n",
       "2856        3184         City        7.0          Cancelled   \n",
       "2857        1687         City        8.0          Cancelled   \n",
       "2858        4174         City        8.0          Cancelled   \n",
       "2859        4335         City        8.0          Cancelled   \n",
       "2860         150         City        9.0          Cancelled   \n",
       "...          ...          ...        ...                ...   \n",
       "6715        6683         City        NaN  No Cars Available   \n",
       "6716        6686      Airport        NaN  No Cars Available   \n",
       "6717        6688      Airport        NaN  No Cars Available   \n",
       "6718        6689      Airport        NaN  No Cars Available   \n",
       "6719        6693         City        NaN  No Cars Available   \n",
       "6720        6696         City        NaN  No Cars Available   \n",
       "6721        6697      Airport        NaN  No Cars Available   \n",
       "6722        6709      Airport        NaN  No Cars Available   \n",
       "6723        6706      Airport        NaN  No Cars Available   \n",
       "6724        6708         City        NaN  No Cars Available   \n",
       "6725        6713         City        NaN  No Cars Available   \n",
       "6726        6715         City        NaN  No Cars Available   \n",
       "6727        6716         City        NaN  No Cars Available   \n",
       "6728        6718      Airport        NaN  No Cars Available   \n",
       "6729        6720         City        NaN  No Cars Available   \n",
       "6730        6722      Airport        NaN  No Cars Available   \n",
       "6731        6725      Airport        NaN  No Cars Available   \n",
       "6732        6728         City        NaN  No Cars Available   \n",
       "6733        6730      Airport        NaN  No Cars Available   \n",
       "6734        6732      Airport        NaN  No Cars Available   \n",
       "6735        6737      Airport        NaN  No Cars Available   \n",
       "6736        6744      Airport        NaN  No Cars Available   \n",
       "6737        6740         City        NaN  No Cars Available   \n",
       "6738        6746         City        NaN  No Cars Available   \n",
       "6739        6739         City        NaN  No Cars Available   \n",
       "6740        6745         City        NaN  No Cars Available   \n",
       "6741        6752      Airport        NaN  No Cars Available   \n",
       "6742        6751         City        NaN  No Cars Available   \n",
       "6743        6754         City        NaN  No Cars Available   \n",
       "6744        6753      Airport        NaN  No Cars Available   \n",
       "\n",
       "       Request timestamp Drop timestamp  \n",
       "2831 2016-07-13 06:08:41            NaT  \n",
       "2832 2016-07-14 17:07:58            NaT  \n",
       "2833 2016-07-14 20:51:37            NaT  \n",
       "2834 2016-07-15 10:12:40            NaT  \n",
       "2835 2016-07-12 19:14:00            NaT  \n",
       "2836 2016-07-13 20:57:49            NaT  \n",
       "2837 2016-07-14 08:38:38            NaT  \n",
       "2838 2016-07-14 19:04:08            NaT  \n",
       "2839 2016-07-11 04:47:00            NaT  \n",
       "2840 2016-07-11 10:01:00            NaT  \n",
       "2841 2016-07-12 09:59:00            NaT  \n",
       "2842 2016-07-14 07:48:31            NaT  \n",
       "2843 2016-07-11 15:49:00            NaT  \n",
       "2844 2016-07-11 21:53:00            NaT  \n",
       "2845 2016-07-13 20:58:00            NaT  \n",
       "2846 2016-07-14 06:33:09            NaT  \n",
       "2847 2016-07-14 09:31:08            NaT  \n",
       "2848 2016-07-13 10:01:57            NaT  \n",
       "2849 2016-07-14 06:39:26            NaT  \n",
       "2850 2016-07-13 07:56:25            NaT  \n",
       "2851 2016-07-15 05:30:31            NaT  \n",
       "2852 2016-07-15 07:25:53            NaT  \n",
       "2853 2016-07-15 07:34:00            NaT  \n",
       "2854 2016-07-11 06:33:00            NaT  \n",
       "2855 2016-07-12 21:42:00            NaT  \n",
       "2856 2016-07-13 09:21:36            NaT  \n",
       "2857 2016-07-12 07:51:00            NaT  \n",
       "2858 2016-07-14 05:19:59            NaT  \n",
       "2859 2016-07-14 07:13:52            NaT  \n",
       "2860 2016-07-11 05:24:00            NaT  \n",
       "...                  ...            ...  \n",
       "6715 2016-07-15 22:34:01            NaT  \n",
       "6716 2016-07-15 22:36:13            NaT  \n",
       "6717 2016-07-15 22:37:37            NaT  \n",
       "6718 2016-07-15 22:43:46            NaT  \n",
       "6719 2016-07-15 22:49:33            NaT  \n",
       "6720 2016-07-15 22:49:45            NaT  \n",
       "6721 2016-07-15 22:51:18            NaT  \n",
       "6722 2016-07-15 22:56:00            NaT  \n",
       "6723 2016-07-15 22:58:15            NaT  \n",
       "6724 2016-07-15 23:03:23            NaT  \n",
       "6725 2016-07-15 23:08:14            NaT  \n",
       "6726 2016-07-15 23:11:41            NaT  \n",
       "6727 2016-07-15 23:14:36            NaT  \n",
       "6728 2016-07-15 23:14:39            NaT  \n",
       "6729 2016-07-15 23:16:48            NaT  \n",
       "6730 2016-07-15 23:18:21            NaT  \n",
       "6731 2016-07-15 23:21:53            NaT  \n",
       "6732 2016-07-15 23:26:50            NaT  \n",
       "6733 2016-07-15 23:27:55            NaT  \n",
       "6734 2016-07-15 23:35:50            NaT  \n",
       "6735 2016-07-15 23:39:15            NaT  \n",
       "6736 2016-07-15 23:42:51            NaT  \n",
       "6737 2016-07-15 23:43:54            NaT  \n",
       "6738 2016-07-15 23:46:03            NaT  \n",
       "6739 2016-07-15 23:46:20            NaT  \n",
       "6740 2016-07-15 23:49:03            NaT  \n",
       "6741 2016-07-15 23:50:05            NaT  \n",
       "6742 2016-07-15 23:52:06            NaT  \n",
       "6743 2016-07-15 23:54:39            NaT  \n",
       "6744 2016-07-15 23:55:03            NaT  \n",
       "\n",
       "[3914 rows x 6 columns]"
      ]
     },
     "execution_count": 14,
     "metadata": {},
     "output_type": "execute_result"
    }
   ],
   "source": [
    "#Further deep diving into null  records we see that all the null values are either Status Cancelled or No cars available so\n",
    "#Null values have not to be removed.\n",
    "uber[np.isnat(uber['Drop timestamp'])]"
   ]
  },
  {
   "cell_type": "code",
   "execution_count": 15,
   "metadata": {},
   "outputs": [
    {
     "data": {
      "text/plain": [
       "Request id            0.00\n",
       "Pickup point          0.00\n",
       "Driver id            39.29\n",
       "Status                0.00\n",
       "Request timestamp     0.00\n",
       "Drop timestamp       58.03\n",
       "dtype: float64"
      ]
     },
     "execution_count": 15,
     "metadata": {},
     "output_type": "execute_result"
    }
   ],
   "source": [
    "#Calculating % of null values in the dataset\n",
    "round(100*(uber.isnull().sum()/len(uber.index)), 2)"
   ]
  },
  {
   "cell_type": "code",
   "execution_count": 16,
   "metadata": {},
   "outputs": [],
   "source": [
    "#Converting 'Driver id' into categorical variable from float type as each driver has a unique id.\n",
    "uber['Driver id'] = uber['Driver id'].astype('category')"
   ]
  },
  {
   "cell_type": "code",
   "execution_count": 17,
   "metadata": {},
   "outputs": [
    {
     "data": {
      "text/plain": [
       "count     4095.0\n",
       "unique     300.0\n",
       "top         27.0\n",
       "freq        22.0\n",
       "Name: Driver id, dtype: float64"
      ]
     },
     "execution_count": 17,
     "metadata": {},
     "output_type": "execute_result"
    }
   ],
   "source": [
    "#Summary of Driver id column\n",
    "uber['Driver id'].describe()"
   ]
  },
  {
   "cell_type": "code",
   "execution_count": 18,
   "metadata": {},
   "outputs": [
    {
     "data": {
      "text/plain": [
       "27.0     22\n",
       "84.0     21\n",
       "22.0     21\n",
       "70.0     21\n",
       "176.0    21\n",
       "177.0    21\n",
       "197.0    20\n",
       "114.0    20\n",
       "142.0    20\n",
       "69.0     20\n",
       "Name: Driver id, dtype: int64"
      ]
     },
     "execution_count": 18,
     "metadata": {},
     "output_type": "execute_result"
    }
   ],
   "source": [
    "#Top Drivers with most statuses either Trip cancelled or Trip Completed\n",
    "uber['Driver id'].value_counts().head(n=10)"
   ]
  },
  {
   "cell_type": "code",
   "execution_count": 19,
   "metadata": {
    "scrolled": true
   },
   "outputs": [
    {
     "data": {
      "image/png": "[encoded data removed]",
      "text/plain": [
       "<Figure size 432x288 with 1 Axes>"
      ]
     },
     "metadata": {},
     "output_type": "display_data"
    }
   ],
   "source": [
    "#Drivers with maximum number of Statuses\n",
    "sns.countplot(x = 'Driver id',data = uber,order =uber['Driver id'].value_counts().iloc[:10].index,hue = 'Status')\n",
    "plt.show()"
   ]
  },
  {
   "cell_type": "code",
   "execution_count": 20,
   "metadata": {},
   "outputs": [],
   "source": [
    "#Adding Derived data-metrics like request hour, day and Drop Point etc for better categorization  of \n",
    "#data into various bins and seeing the trend.\n",
    "uber['Request Day'] = pd.DatetimeIndex(uber['Request timestamp']).day\n",
    "uber['Request Hour'] = pd.DatetimeIndex(uber['Request timestamp']).hour\n",
    "uber['Drop Hour'] = uber['Drop timestamp'].map(lambda x : pd.Timestamp(x).hour)"
   ]
  },
  {
   "cell_type": "code",
   "execution_count": 21,
   "metadata": {},
   "outputs": [],
   "source": [
    "#Adding Time slot for every particular time of day like Morning Evening Late night\n",
    "uber['Time Slot'] = None\n",
    "uber.loc[uber['Request Hour']<5, 'Time Slot'] = 'Pre Morning'\n",
    "uber.loc[(uber['Request Hour']>=5) & (uber['Request Hour']<=10), 'Time Slot'] = 'Morning'\n",
    "uber.loc[(uber['Request Hour']>10) & (uber['Request Hour']<16), 'Time Slot'] = 'Day Time'\n",
    "uber.loc[(uber['Request Hour']>=16) & (uber['Request Hour']<22), 'Time Slot'] = 'Evening Rush'\n",
    "uber.loc[uber['Request Hour']>=22, 'Time Slot'] = 'Late Night'"
   ]
  },
  {
   "cell_type": "code",
   "execution_count": 22,
   "metadata": {},
   "outputs": [],
   "source": [
    "#Deducing  Drop point for every Trip Completed from Pickup Point\n",
    "uber['Drop Point'] = None\n",
    "uber.loc[(uber['Status'] == \"Trip Completed\") & (uber['Pickup point'] == \"City\"),'Drop Point'] = 'Airport'\n",
    "uber.loc[(uber['Status'] == \"Trip Completed\") & (uber['Pickup point'] == \"Airport\"),'Drop Point'] = 'City'"
   ]
  },
  {
   "cell_type": "code",
   "execution_count": 23,
   "metadata": {},
   "outputs": [
    {
     "name": "stdout",
     "output_type": "stream",
     "text": [
      "<class 'pandas.core.frame.DataFrame'>\n",
      "RangeIndex: 6745 entries, 0 to 6744\n",
      "Data columns (total 11 columns):\n",
      "Request id           6745 non-null int64\n",
      "Pickup point         6745 non-null object\n",
      "Driver id            4095 non-null category\n",
      "Status               6745 non-null object\n",
      "Request timestamp    6745 non-null datetime64[ns]\n",
      "Drop timestamp       2831 non-null datetime64[ns]\n",
      "Request Day          6745 non-null int64\n",
      "Request Hour         6745 non-null int64\n",
      "Drop Hour            2831 non-null float64\n",
      "Time Slot            6745 non-null object\n",
      "Drop Point           2831 non-null object\n",
      "dtypes: category(1), datetime64[ns](2), float64(1), int64(3), object(4)\n",
      "memory usage: 552.5+ KB\n"
     ]
    }
   ],
   "source": [
    "#Checking the summary of every variables in the dataset\n",
    "uber.info()"
   ]
  },
  {
   "cell_type": "code",
   "execution_count": 24,
   "metadata": {},
   "outputs": [
    {
     "data": {
      "text/html": [
       "<div>\n",
       "<style scoped>\n",
       "    .dataframe tbody tr th:only-of-type {\n",
       "        vertical-align: middle;\n",
       "    }\n",
       "\n",
       "    .dataframe tbody tr th {\n",
       "        vertical-align: top;\n",
       "    }\n",
       "\n",
       "    .dataframe thead th {\n",
       "        text-align: right;\n",
       "    }\n",
       "</style>\n",
       "<table border=\"1\" class=\"dataframe\">\n",
       "  <thead>\n",
       "    <tr style=\"text-align: right;\">\n",
       "      <th></th>\n",
       "      <th>Request id</th>\n",
       "      <th>Pickup point</th>\n",
       "      <th>Driver id</th>\n",
       "      <th>Status</th>\n",
       "      <th>Request timestamp</th>\n",
       "      <th>Drop timestamp</th>\n",
       "      <th>Request Day</th>\n",
       "      <th>Request Hour</th>\n",
       "      <th>Drop Hour</th>\n",
       "      <th>Time Slot</th>\n",
       "      <th>Drop Point</th>\n",
       "    </tr>\n",
       "  </thead>\n",
       "  <tbody>\n",
       "    <tr>\n",
       "      <th>0</th>\n",
       "      <td>619</td>\n",
       "      <td>Airport</td>\n",
       "      <td>1.0</td>\n",
       "      <td>Trip Completed</td>\n",
       "      <td>2016-07-11 11:51:00</td>\n",
       "      <td>2016-07-11 13:00:00</td>\n",
       "      <td>11</td>\n",
       "      <td>11</td>\n",
       "      <td>13.0</td>\n",
       "      <td>Day Time</td>\n",
       "      <td>City</td>\n",
       "    </tr>\n",
       "    <tr>\n",
       "      <th>1</th>\n",
       "      <td>867</td>\n",
       "      <td>Airport</td>\n",
       "      <td>1.0</td>\n",
       "      <td>Trip Completed</td>\n",
       "      <td>2016-07-11 17:57:00</td>\n",
       "      <td>2016-07-11 18:47:00</td>\n",
       "      <td>11</td>\n",
       "      <td>17</td>\n",
       "      <td>18.0</td>\n",
       "      <td>Evening Rush</td>\n",
       "      <td>City</td>\n",
       "    </tr>\n",
       "    <tr>\n",
       "      <th>2</th>\n",
       "      <td>1807</td>\n",
       "      <td>City</td>\n",
       "      <td>1.0</td>\n",
       "      <td>Trip Completed</td>\n",
       "      <td>2016-07-12 09:17:00</td>\n",
       "      <td>2016-07-12 09:58:00</td>\n",
       "      <td>12</td>\n",
       "      <td>9</td>\n",
       "      <td>9.0</td>\n",
       "      <td>Morning</td>\n",
       "      <td>Airport</td>\n",
       "    </tr>\n",
       "    <tr>\n",
       "      <th>3</th>\n",
       "      <td>2532</td>\n",
       "      <td>Airport</td>\n",
       "      <td>1.0</td>\n",
       "      <td>Trip Completed</td>\n",
       "      <td>2016-07-12 21:08:00</td>\n",
       "      <td>2016-07-12 22:03:00</td>\n",
       "      <td>12</td>\n",
       "      <td>21</td>\n",
       "      <td>22.0</td>\n",
       "      <td>Evening Rush</td>\n",
       "      <td>City</td>\n",
       "    </tr>\n",
       "    <tr>\n",
       "      <th>4</th>\n",
       "      <td>3112</td>\n",
       "      <td>City</td>\n",
       "      <td>1.0</td>\n",
       "      <td>Trip Completed</td>\n",
       "      <td>2016-07-13 08:33:16</td>\n",
       "      <td>2016-07-13 09:25:47</td>\n",
       "      <td>13</td>\n",
       "      <td>8</td>\n",
       "      <td>9.0</td>\n",
       "      <td>Morning</td>\n",
       "      <td>Airport</td>\n",
       "    </tr>\n",
       "  </tbody>\n",
       "</table>\n",
       "</div>"
      ],
      "text/plain": [
       "   Request id Pickup point Driver id          Status   Request timestamp  \\\n",
       "0         619      Airport       1.0  Trip Completed 2016-07-11 11:51:00   \n",
       "1         867      Airport       1.0  Trip Completed 2016-07-11 17:57:00   \n",
       "2        1807         City       1.0  Trip Completed 2016-07-12 09:17:00   \n",
       "3        2532      Airport       1.0  Trip Completed 2016-07-12 21:08:00   \n",
       "4        3112         City       1.0  Trip Completed 2016-07-13 08:33:16   \n",
       "\n",
       "       Drop timestamp  Request Day  Request Hour  Drop Hour     Time Slot  \\\n",
       "0 2016-07-11 13:00:00           11            11       13.0      Day Time   \n",
       "1 2016-07-11 18:47:00           11            17       18.0  Evening Rush   \n",
       "2 2016-07-12 09:58:00           12             9        9.0       Morning   \n",
       "3 2016-07-12 22:03:00           12            21       22.0  Evening Rush   \n",
       "4 2016-07-13 09:25:47           13             8        9.0       Morning   \n",
       "\n",
       "  Drop Point  \n",
       "0       City  \n",
       "1       City  \n",
       "2    Airport  \n",
       "3       City  \n",
       "4    Airport  "
      ]
     },
     "execution_count": 24,
     "metadata": {},
     "output_type": "execute_result"
    }
   ],
   "source": [
    "uber.head()"
   ]
  },
  {
   "cell_type": "code",
   "execution_count": 25,
   "metadata": {},
   "outputs": [],
   "source": [
    "#Creating a seperate dataframe 'filter_status' from dataset for Trips cancelled or No Cars Available\n",
    "filter_status = uber[(uber['Status'] == \"Cancelled\") | (uber['Status'] == \"No Cars Available\")]"
   ]
  },
  {
   "cell_type": "code",
   "execution_count": 26,
   "metadata": {},
   "outputs": [
    {
     "data": {
      "image/png": "[encoded data removed]",
      "text/plain": [
       "<Figure size 1152x576 with 2 Axes>"
      ]
     },
     "metadata": {},
     "output_type": "display_data"
    }
   ],
   "source": [
    "#Requests getting Cancelled or Showing No Cars Available \n",
    "plt.figure(figsize=(16, 8))\n",
    "plt.subplot(1, 2, 1)\n",
    "sns.countplot(x = 'Request Hour',data = filter_status,hue = 'Status')\n",
    "plt.title('Status of Trips at Different hours')\n",
    "\n",
    "#Requests getting Cancelled or Showing No Cars Available for Different Pickup points\n",
    "plt.subplot(1, 2, 2)\n",
    "sns.countplot(x= 'Request Hour',data = filter_status, hue = 'Pickup point')\n",
    "plt.title('Frequency of Request at Different Pickup points')\n",
    "\n",
    "plt.show()"
   ]
  },
  {
   "cell_type": "code",
   "execution_count": 27,
   "metadata": {},
   "outputs": [
    {
     "data": {
      "image/png": "[encoded data removed]",
      "text/plain": [
       "<Figure size 432x288 with 1 Axes>"
      ]
     },
     "metadata": {},
     "output_type": "display_data"
    }
   ],
   "source": [
    "#Number of requests at different Pickup points\n",
    "sns.countplot(x = 'Pickup point',data = uber)\n",
    "#plt.yscale('log')\n",
    "plt.show()"
   ]
  },
  {
   "cell_type": "code",
   "execution_count": 28,
   "metadata": {},
   "outputs": [
    {
     "data": {
      "image/png": "[encoded data removed]",
      "text/plain": [
       "<Figure size 432x288 with 1 Axes>"
      ]
     },
     "metadata": {},
     "output_type": "display_data"
    }
   ],
   "source": [
    "#Number  of Drops at Different locations\n",
    "sns.countplot(x = 'Drop Point',data = uber)\n",
    "#plt.yscale('log')\n",
    "plt.show()"
   ]
  },
  {
   "cell_type": "code",
   "execution_count": 29,
   "metadata": {},
   "outputs": [],
   "source": [
    "#Creating column  for Drop Timestamp Hour and another data frame for removing Null values in Drop timestamp.\n",
    "filter_drop = uber[~np.isnat(uber['Drop timestamp'])]\n",
    "filter_drop['Drop Hour'] = pd.DatetimeIndex(filter_drop['Drop timestamp']).hour"
   ]
  },
  {
   "cell_type": "code",
   "execution_count": 63,
   "metadata": {},
   "outputs": [
    {
     "data": {
      "image/png": "[encoded data removed]",
      "text/plain": [
       "<Figure size 1224x576 with 2 Axes>"
      ]
     },
     "metadata": {},
     "output_type": "display_data"
    }
   ],
   "source": [
    "plt.figure(figsize=(17, 8))\n",
    "\n",
    "plt.subplot(1, 2, 1)\n",
    "sns.countplot(x = 'Request Hour',data = uber,hue = 'Pickup point')\n",
    "plt.title('Frequency of Pickups at Different Locations')\n",
    "\n",
    "plt.subplot(1, 2, 2)\n",
    "sns.countplot(x= 'Drop Hour',data = filter_drop, hue = 'Drop Point')\n",
    "plt.title('Frequency of Drops at Different Drop points')\n",
    "\n",
    "plt.show()"
   ]
  },
  {
   "cell_type": "code",
   "execution_count": 31,
   "metadata": {},
   "outputs": [
    {
     "data": {
      "image/png": "[encoded data removed]",
      "text/plain": [
       "<Figure size 432x288 with 1 Axes>"
      ]
     },
     "metadata": {},
     "output_type": "display_data"
    }
   ],
   "source": [
    "#Demand for Cabs at different hours and their Statuses\n",
    "sns.set_color_codes(\"pastel\")\n",
    "sns.countplot( x = \"Request Hour\", data=uber,hue = 'Status')\n",
    "plt.show()"
   ]
  },
  {
   "cell_type": "code",
   "execution_count": 36,
   "metadata": {},
   "outputs": [
    {
     "data": {
      "image/png": "[encoded data removed]",
      "text/plain": [
       "<Figure size 432x288 with 1 Axes>"
      ]
     },
     "metadata": {},
     "output_type": "display_data"
    }
   ],
   "source": [
    "#Statuses of No Cars Available at every hour\n",
    "No_cars = uber[uber['Status'] == 'No Cars Available']\n",
    "sns.set_color_codes(\"pastel\")\n",
    "sns.countplot( x = \"Request Hour\", data=No_cars,hue = 'Pickup point')\n",
    "plt.show()"
   ]
  },
  {
   "cell_type": "code",
   "execution_count": 54,
   "metadata": {},
   "outputs": [
    {
     "data": {
      "image/png": "[encoded data removed]",
      "text/plain": [
       "<Figure size 1080x576 with 1 Axes>"
      ]
     },
     "metadata": {},
     "output_type": "display_data"
    }
   ],
   "source": [
    "#Plotting Demand-Supply stacked graph for better visualization of Business Problem\n",
    "plt.figure(figsize=(15, 8))\n",
    "\n",
    "\n",
    "supply = uber [uber['Status'] == \"Trip Completed\"]\n",
    "sns.countplot(x= 'Request Hour', data = uber,color = \"red\")\n",
    "sns.countplot(x = 'Request Hour', data = supply , color = '#0000A3',saturation = 0.8)\n",
    "demand = plt.Rectangle((0,0),1,1,fc=\"red\", edgecolor = 'none')\n",
    "supply = plt.Rectangle((0,0),1,1,fc='#0000A3',  edgecolor = 'none')\n",
    "l = plt.legend([demand, supply], ['demand', 'supply'], loc=1, ncol = 2, prop={'size':16})\n",
    "l.draw_frame(True)\n",
    "\n",
    "\n",
    "plt.show()"
   ]
  },
  {
   "cell_type": "code",
   "execution_count": 64,
   "metadata": {},
   "outputs": [
    {
     "data": {
      "image/png": "[encoded data removed]",
      "text/plain": [
       "<Figure size 1080x576 with 1 Axes>"
      ]
     },
     "metadata": {},
     "output_type": "display_data"
    }
   ],
   "source": [
    "#Plotting Demand-Supply stacked graph for better visualization of Business Problem Timeslot wise\n",
    "plt.figure(figsize=(15, 8))\n",
    "\n",
    "\n",
    "supply = uber [uber['Status'] == \"Trip Completed\"]\n",
    "sns.countplot(x= 'Time Slot', data = uber,color = \"red\")\n",
    "sns.countplot(x = 'Time Slot', data = supply , color = '#0000A3',saturation = 0.8)\n",
    "demand = plt.Rectangle((0,0),1,1,fc=\"red\", edgecolor = 'none')\n",
    "supply = plt.Rectangle((0,0),1,1,fc='#0000A3',  edgecolor = 'none')\n",
    "l = plt.legend([demand, supply], ['demand', 'supply'], loc=1, ncol = 2, prop={'size':16})\n",
    "l.draw_frame(True)\n",
    "\n",
    "\n",
    "plt.show()"
   ]
  },
  {
   "cell_type": "code",
   "execution_count": 33,
   "metadata": {},
   "outputs": [
    {
     "data": {
      "image/png": "[encoded data removed]",
      "text/plain": [
       "<Figure size 432x288 with 1 Axes>"
      ]
     },
     "metadata": {},
     "output_type": "display_data"
    }
   ],
   "source": [
    "#Plotting Differet requests at every hours wrt Statuses\n",
    "sns.countplot(x = 'Time Slot',data = uber,hue = 'Status')\n",
    "plt.show()"
   ]
  },
  {
   "cell_type": "code",
   "execution_count": 44,
   "metadata": {},
   "outputs": [
    {
     "data": {
      "text/plain": [
       "<matplotlib.axes._subplots.AxesSubplot at 0x1dd8af23940>"
      ]
     },
     "execution_count": 44,
     "metadata": {},
     "output_type": "execute_result"
    },
    {
     "data": {
      "image/png": "[encoded data removed]",
      "text/plain": [
       "<Figure size 432x288 with 1 Axes>"
      ]
     },
     "metadata": {},
     "output_type": "display_data"
    }
   ],
   "source": [
    "#Pickup for every Location\n",
    "sns.countplot(x= 'Pickup point', data = uber,color = \"red\")\n"
   ]
  },
  {
   "cell_type": "code",
   "execution_count": null,
   "metadata": {},
   "outputs": [],
   "source": []
  }
 ],
 "metadata": {
  "kernelspec": {
   "display_name": "Python 3",
   "language": "python",
   "name": "python3"
  },
  "language_info": {
   "codemirror_mode": {
    "name": "ipython",
    "version": 3
   },
   "file_extension": ".py",
   "mimetype": "text/x-python",
   "name": "python",
   "nbconvert_exporter": "python",
   "pygments_lexer": "ipython3",
   "version": "3.6.5"
  }
 },
 "nbformat": 4,
 "nbformat_minor": 2
}
